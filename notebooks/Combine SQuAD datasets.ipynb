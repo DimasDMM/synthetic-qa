{
 "cells": [
  {
   "cell_type": "markdown",
   "metadata": {},
   "source": [
    "# Combine SQuAD datasets\n",
    "\n",
    "Notebook to combine two different SQuAD-like datasets in a single file."
   ]
  },
  {
   "cell_type": "code",
   "execution_count": null,
   "metadata": {},
   "outputs": [],
   "source": [
    "import json"
   ]
  },
  {
   "cell_type": "code",
   "execution_count": null,
   "metadata": {},
   "outputs": [],
   "source": [
    "INPUT_PATH_A = '../data/squad/dev-v1.1-small-5k.json'\n",
    "INPUT_PATH_B = '../data/synthetic_google_top_n/es/top_1/train-synthetic.json'\n",
    "VERSION = '1.0'\n",
    "\n",
    "OUTPUT_PATH = '../data/synthetic_google_top_n/es/top_1/train-synthetic-extsquad5k.json'"
   ]
  },
  {
   "cell_type": "code",
   "execution_count": null,
   "metadata": {},
   "outputs": [],
   "source": [
    "with open(INPUT_PATH_A, 'r', encoding='utf8') as fp:\n",
    "    dataset_a = json.load(fp)\n",
    "with open(INPUT_PATH_B, 'r', encoding='utf8') as fp:\n",
    "    dataset_b = json.load(fp)\n",
    "\n",
    "new_dataset = {\n",
    "    'version': VERSION,\n",
    "    'data': dataset_a['data'] + dataset_b['data']\n",
    "}"
   ]
  },
  {
   "cell_type": "code",
   "execution_count": null,
   "metadata": {},
   "outputs": [],
   "source": [
    "def count_qas(dataset):\n",
    "    squad_items = []\n",
    "    for qa_context in dataset['data']:\n",
    "        for qa_paragraph in qa_context['paragraphs']:\n",
    "            for qa_item in qa_paragraph['qas']:\n",
    "                squad_items.append({\n",
    "                    'title': qa_context['title'],\n",
    "                    'paragraphs': [{\n",
    "                        'context': qa_paragraph['context'],\n",
    "                        'qas': [{\n",
    "                            'id': qa_item['id'],\n",
    "                            'question': qa_item['question'],\n",
    "                            'answers': qa_item['answers'],\n",
    "                        }],\n",
    "                    }],\n",
    "                })\n",
    "    return len(squad_items)"
   ]
  },
  {
   "cell_type": "code",
   "execution_count": null,
   "metadata": {},
   "outputs": [],
   "source": [
    "total_items_a = count_qas(dataset_a)\n",
    "total_items_b = count_qas(dataset_b)\n",
    "total_items = total_items_a + total_items_b\n",
    "\n",
    "print('Total items: %d' % total_items)\n",
    "print('- Dataset A: %d' % total_items_a)\n",
    "print('- Dataset B: %d' % total_items_b)"
   ]
  },
  {
   "cell_type": "code",
   "execution_count": null,
   "metadata": {},
   "outputs": [],
   "source": [
    "with open(OUTPUT_PATH, 'w', encoding='utf8') as fp:\n",
    "    json.dump(new_dataset, fp, ensure_ascii=False)"
   ]
  },
  {
   "cell_type": "code",
   "execution_count": null,
   "metadata": {},
   "outputs": [],
   "source": []
  }
 ],
 "metadata": {
  "kernelspec": {
   "display_name": "Python 3",
   "language": "python",
   "name": "python3"
  },
  "language_info": {
   "codemirror_mode": {
    "name": "ipython",
    "version": 3
   },
   "file_extension": ".py",
   "mimetype": "text/x-python",
   "name": "python",
   "nbconvert_exporter": "python",
   "pygments_lexer": "ipython3",
   "version": "3.8.5"
  }
 },
 "nbformat": 4,
 "nbformat_minor": 4
}
