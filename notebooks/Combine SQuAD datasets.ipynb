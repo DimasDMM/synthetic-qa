{
 "cells": [
  {
   "cell_type": "markdown",
   "metadata": {},
   "source": [
    "# Combine SQuAD datasets\n",
    "\n",
    "Notebook to combine two different SQuAD-like datasets in a single file."
   ]
  },
  {
   "cell_type": "code",
   "execution_count": null,
   "metadata": {},
   "outputs": [],
   "source": [
    "import json\n",
    "import os"
   ]
  },
  {
   "cell_type": "code",
   "execution_count": null,
   "metadata": {},
   "outputs": [],
   "source": [
    "def count_qas(dataset):\n",
    "    squad_items = []\n",
    "    for qa_context in dataset['data']:\n",
    "        for qa_paragraph in qa_context['paragraphs']:\n",
    "            for qa_item in qa_paragraph['qas']:\n",
    "                squad_items.append({\n",
    "                    'title': qa_context['title'],\n",
    "                    'paragraphs': [{\n",
    "                        'context': qa_paragraph['context'],\n",
    "                        'qas': [{\n",
    "                            'id': qa_item['id'],\n",
    "                            'question': qa_item['question'],\n",
    "                            'answers': qa_item['answers'],\n",
    "                        }],\n",
    "                    }],\n",
    "                })\n",
    "    return len(squad_items)"
   ]
  },
  {
   "cell_type": "code",
   "execution_count": null,
   "metadata": {},
   "outputs": [],
   "source": [
    "def combine_datasets(filepaths, output_filepath, version='1.0'):\n",
    "    new_dataset = {\n",
    "        'version': version,\n",
    "        'data': []\n",
    "    }\n",
    "    \n",
    "    for filepath in filepaths:\n",
    "        with open(filepath, 'r', encoding='utf8') as fp:\n",
    "            sub_dataset = json.load(fp)\n",
    "            new_dataset['data'] += sub_dataset['data']\n",
    "    \n",
    "    output_path = os.path.dirname(output_filepath)\n",
    "    os.makedirs(output_path, exist_ok=True)\n",
    "    \n",
    "    with open(output_filepath, 'w', encoding='utf8') as fp:\n",
    "        json.dump(new_dataset, fp, ensure_ascii=False)"
   ]
  },
  {
   "cell_type": "code",
   "execution_count": null,
   "metadata": {},
   "outputs": [],
   "source": [
    "# List of files to combine\n",
    "input_filepaths = [\n",
    "    '../data/squad/file-1.json',\n",
    "    '../data/squad/file-2.json',\n",
    "]\n",
    "\n",
    "# Name of the new file\n",
    "output_filepath = '../data/squad/new-file.json'\n",
    "\n",
    "combine_datasets(input_filepaths, output_filepath)"
   ]
  },
  {
   "cell_type": "code",
   "execution_count": null,
   "metadata": {},
   "outputs": [],
   "source": []
  },
  {
   "cell_type": "code",
   "execution_count": null,
   "metadata": {},
   "outputs": [],
   "source": []
  }
 ],
 "metadata": {
  "kernelspec": {
   "display_name": "Python 3",
   "language": "python",
   "name": "python3"
  },
  "language_info": {
   "codemirror_mode": {
    "name": "ipython",
    "version": 3
   },
   "file_extension": ".py",
   "mimetype": "text/x-python",
   "name": "python",
   "nbconvert_exporter": "python",
   "pygments_lexer": "ipython3",
   "version": "3.8.5"
  }
 },
 "nbformat": 4,
 "nbformat_minor": 4
}
