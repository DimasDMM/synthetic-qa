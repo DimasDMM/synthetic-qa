{
 "cells": [
  {
   "cell_type": "markdown",
   "metadata": {},
   "source": [
    "# Small SQuAD Set\n",
    "\n",
    "This notebook picks a random smaller set of a SQuAD-like dataset and stores it."
   ]
  },
  {
   "cell_type": "code",
   "execution_count": null,
   "metadata": {},
   "outputs": [],
   "source": [
    "import json\n",
    "import random"
   ]
  },
  {
   "cell_type": "code",
   "execution_count": null,
   "metadata": {},
   "outputs": [],
   "source": [
    "INPUT_PATH = '../data/squad/dev-v1.1.json'\n",
    "OUTPUT_PATH = '../data/squad/dev-v1.1-small-5k.json'\n",
    "N_SAMPLES = 5000\n",
    "\n",
    "DEFAULT_SEED = 42\n",
    "random.seed(DEFAULT_SEED)"
   ]
  },
  {
   "cell_type": "code",
   "execution_count": null,
   "metadata": {},
   "outputs": [],
   "source": [
    "with open(INPUT_PATH, 'r') as fp:\n",
    "    dataset = json.load(fp)"
   ]
  },
  {
   "cell_type": "code",
   "execution_count": null,
   "metadata": {},
   "outputs": [],
   "source": [
    "squad_items = []\n",
    "for qa_context in dataset['data']:\n",
    "    for qa_paragraph in qa_context['paragraphs']:\n",
    "        for qa_item in qa_paragraph['qas']:\n",
    "            squad_items.append({\n",
    "                'title': qa_context['title'],\n",
    "                'paragraphs': [{\n",
    "                    'context': qa_paragraph['context'],\n",
    "                    'qas': [{\n",
    "                        'id': qa_item['id'],\n",
    "                        'question': qa_item['question'],\n",
    "                        'answers': qa_item['answers'],\n",
    "                    }],\n",
    "                }],\n",
    "            })"
   ]
  },
  {
   "cell_type": "code",
   "execution_count": null,
   "metadata": {},
   "outputs": [],
   "source": [
    "n_items = len(squad_items)\n",
    "\n",
    "if n_items < N_SAMPLES:\n",
    "    raise Exception('Input file is smaller (%d items) than expected output file.' % len(dataset['data']))\n",
    "\n",
    "print('Found %d items' % n_items)"
   ]
  },
  {
   "cell_type": "code",
   "execution_count": null,
   "metadata": {},
   "outputs": [],
   "source": [
    "sub_squad_items = random.sample(squad_items, N_SAMPLES)"
   ]
  },
  {
   "cell_type": "code",
   "execution_count": null,
   "metadata": {},
   "outputs": [],
   "source": [
    "with open(OUTPUT_PATH, 'w') as fp:\n",
    "    dataset['data'] = sub_squad_items\n",
    "    json.dump(dataset, fp)"
   ]
  },
  {
   "cell_type": "code",
   "execution_count": null,
   "metadata": {},
   "outputs": [],
   "source": []
  }
 ],
 "metadata": {
  "kernelspec": {
   "display_name": "Python 3",
   "language": "python",
   "name": "python3"
  },
  "language_info": {
   "codemirror_mode": {
    "name": "ipython",
    "version": 3
   },
   "file_extension": ".py",
   "mimetype": "text/x-python",
   "name": "python",
   "nbconvert_exporter": "python",
   "pygments_lexer": "ipython3",
   "version": "3.8.5"
  }
 },
 "nbformat": 4,
 "nbformat_minor": 4
}
