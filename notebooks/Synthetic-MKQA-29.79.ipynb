{
 "cells": [
  {
   "cell_type": "markdown",
   "metadata": {},
   "source": [
    "# Synthetic SQuAD dataset based on MKQA"
   ]
  },
  {
   "cell_type": "code",
   "execution_count": 1,
   "metadata": {},
   "outputs": [],
   "source": [
    "from bs4 import BeautifulSoup\n",
    "import json\n",
    "import math\n",
    "import nltk\n",
    "import os\n",
    "import re\n",
    "import requests\n",
    "import urllib\n",
    "\n",
    "from tokenizers import BertWordPieceTokenizer\n",
    "from transformers import BertTokenizer"
   ]
  },
  {
   "cell_type": "code",
   "execution_count": 2,
   "metadata": {},
   "outputs": [],
   "source": [
    "LM_NAME = 'bert-base-multilingual-cased'\n",
    "INPUT_FILE = '../data/mkqa/mkqa.jsonl'"
   ]
  },
  {
   "cell_type": "code",
   "execution_count": 3,
   "metadata": {},
   "outputs": [],
   "source": [
    "with open(INPUT_FILE, 'r', encoding='utf-8') as fp:\n",
    "    mkqa_dataset = list(fp)\n",
    "\n",
    "mkqa_dataset = [json.loads(jline) for jline in mkqa_dataset]"
   ]
  },
  {
   "cell_type": "code",
   "execution_count": 4,
   "metadata": {},
   "outputs": [],
   "source": [
    "def str_to_num(text):\n",
    "    try:\n",
    "        return int(text)\n",
    "    except:\n",
    "        return float(text)"
   ]
  },
  {
   "cell_type": "markdown",
   "metadata": {},
   "source": [
    "## DBPedia\n",
    "\n",
    "In order to get the Wiki entities in the questions, we will use DBPedia. This service will run in a docker container.\n",
    "\n",
    "Download the models from https://databus.dbpedia.org/dbpedia/spotlight/spotlight-model/\n",
    "\n",
    "See:\n",
    "- https://github.com/dbpedia-spotlight/dbpedia-spotlight\n",
    "- https://www.dbpedia-spotlight.org/api"
   ]
  },
  {
   "cell_type": "code",
   "execution_count": 5,
   "metadata": {},
   "outputs": [],
   "source": [
    "def get_dbpedia_annotations(text, min_score=0.96):\n",
    "    text = urllib.parse.quote_plus(text)\n",
    "    url = 'http://127.0.0.1:8080/rest/annotate' + \\\n",
    "        '?text=%s' % text + \\\n",
    "        '&confidence=0'\n",
    "    \n",
    "    r = requests.get(url, headers={'Accept': 'application/json'})\n",
    "    if r.status_code != 200:\n",
    "        print('')\n",
    "        print('Unexpected HTTP Status: %d - %s' % (r.status_code, url))\n",
    "        #raise Exception('Unexpected HTTP Status: %d' % r.status_code)\n",
    "        return []\n",
    "    \n",
    "    raw_data = r.json()\n",
    "    \n",
    "    resources = []\n",
    "    \n",
    "    if 'Resources' not in raw_data:\n",
    "        return []\n",
    "    \n",
    "    for item in raw_data['Resources']:\n",
    "        item_score = str_to_num(item['@similarityScore'])\n",
    "        if item_score >= min_score:\n",
    "            resources.append({\n",
    "                'uri': item['@URI'],\n",
    "                'text': item['@surfaceForm'],\n",
    "                'score': item_score,\n",
    "                'types': item['@types'],\n",
    "                'support': item['@support'],\n",
    "            })\n",
    "\n",
    "    return resources"
   ]
  },
  {
   "cell_type": "code",
   "execution_count": 6,
   "metadata": {},
   "outputs": [
    {
     "data": {
      "text/plain": [
       "[{'uri': 'http://es.dbpedia.org/resource/Bill_Gates',\n",
       "  'text': 'Bill Gates',\n",
       "  'score': 0.9999999999940457,\n",
       "  'types': 'Http://xmlns.com/foaf/0.1/Person,Wikidata:Q5,Wikidata:Q24229398,Wikidata:Q215627,DUL:NaturalPerson,DUL:Agent,Schema:Person,DBpedia:Agent,DBpedia:Person',\n",
       "  'support': '478'},\n",
       " {'uri': 'http://es.dbpedia.org/resource/Vive_(Venezuela)',\n",
       "  'text': 'vive',\n",
       "  'score': 0.9784932221938503,\n",
       "  'types': 'Wikidata:Q43229,Wikidata:Q24229398,Wikidata:Q15265344,DUL:SocialPerson,DUL:Agent,Schema:TelevisionStation,Schema:Organization,DBpedia:Organisation,DBpedia:Broadcaster,DBpedia:Agent,DBpedia:TelevisionStation',\n",
       "  'support': '45'},\n",
       " {'uri': 'http://es.dbpedia.org/resource/Estados_Unidos',\n",
       "  'text': 'Estados Unidos',\n",
       "  'score': 0.9999993981782999,\n",
       "  'types': 'Wikidata:Q6256,Schema:Place,Schema:Country,DBpedia:PopulatedPlace,DBpedia:Place,DBpedia:Location,DBpedia:Country',\n",
       "  'support': '399783'}]"
      ]
     },
     "execution_count": 6,
     "metadata": {},
     "output_type": "execute_result"
    }
   ],
   "source": [
    "sample_text = '¿Bill Gates vive en Estados Unidos?'\n",
    "sample_annotations = get_dbpedia_annotations(sample_text)\n",
    "sample_annotations"
   ]
  },
  {
   "cell_type": "code",
   "execution_count": 7,
   "metadata": {},
   "outputs": [],
   "source": [
    "def get_dbpedia_entity_id(url):\n",
    "    r = requests.get(url, headers={'Accept': 'application/json'})\n",
    "    if r.status_code != 200:\n",
    "        print('')\n",
    "        print('Unexpected HTTP Status: %d - %s' % (r.status_code, url))\n",
    "        #raise Exception('Unexpected HTTP Status: %d' % r.status_code)\n",
    "        return None\n",
    "    \n",
    "    raw_data = r.json()\n",
    "    if url not in raw_data or 'http://dbpedia.org/ontology/wikiPageID' not in raw_data[url]:\n",
    "        return None\n",
    "    \n",
    "    wiki_id = raw_data[url]['http://dbpedia.org/ontology/wikiPageID'][0]['value']\n",
    "    \n",
    "    return wiki_id"
   ]
  },
  {
   "cell_type": "code",
   "execution_count": 8,
   "metadata": {},
   "outputs": [
    {
     "data": {
      "text/plain": [
       "375"
      ]
     },
     "execution_count": 8,
     "metadata": {},
     "output_type": "execute_result"
    }
   ],
   "source": [
    "get_dbpedia_entity_id(sample_annotations[0]['uri'])"
   ]
  },
  {
   "cell_type": "code",
   "execution_count": 9,
   "metadata": {},
   "outputs": [],
   "source": [
    "def get_dbpedia_search(query, min_score):\n",
    "    annotations = get_dbpedia_annotations(query, min_score=min_score)\n",
    "    entities = []\n",
    "    for item in annotations:\n",
    "        page_id = get_dbpedia_entity_id(item['uri'])\n",
    "        if page_id is None:\n",
    "            continue\n",
    "        entities.append({\n",
    "            'wiki_title': item['text'],\n",
    "            'wiki_page_id': page_id,\n",
    "            'dbpedia_score': item['score'],\n",
    "        })\n",
    "    return entities"
   ]
  },
  {
   "cell_type": "markdown",
   "metadata": {},
   "source": [
    "## Wiki API\n",
    "\n",
    "Wikipedia API:\n",
    "```\n",
    "https://en.wikipedia.org/w/api.php\n",
    "?action=query\n",
    "&list=search\n",
    "&srsearch=zyz        # search query\n",
    "&srlimit=1           # return only the first result\n",
    "&srnamespace=0       # search only articles, ignoring Talk, Mediawiki, etc.\n",
    "&format=json         # jsonfm prints the JSON in HTML for debugging.\n",
    "```"
   ]
  },
  {
   "cell_type": "code",
   "execution_count": 10,
   "metadata": {},
   "outputs": [],
   "source": [
    "def get_wiki_search(query, top_results=5, lang_code='es'):\n",
    "    query = urllib.parse.quote_plus(query)\n",
    "    url = 'https://%s.wikipedia.org/w/api.php' % lang_code + \\\n",
    "        '?action=query' + \\\n",
    "        '&list=search' + \\\n",
    "        '&srsearch=%s' % query + \\\n",
    "        '&srlimit=%d' % top_results + \\\n",
    "        '&srnamespace=0' + \\\n",
    "        '&format=json'\n",
    "    \n",
    "    r = requests.get(url)\n",
    "    if r.status_code != 200:\n",
    "        print('')\n",
    "        print('Unexpected HTTP Status: %d - %s' % (r.status_code, url))\n",
    "        #raise Exception('Unexpected HTTP Status: %d' % r.status_code)\n",
    "        return []\n",
    "\n",
    "    raw_data = r.json()\n",
    "    \n",
    "    if 'query' not in raw_data:\n",
    "        return []\n",
    "    \n",
    "    items = []\n",
    "    for raw_item in raw_data['query']['search']:\n",
    "        items.append({\n",
    "            'wiki_title': raw_item['title'],\n",
    "            'wiki_page_id': raw_item['pageid'],\n",
    "        })\n",
    "    return items"
   ]
  },
  {
   "cell_type": "code",
   "execution_count": 11,
   "metadata": {},
   "outputs": [
    {
     "data": {
      "text/plain": [
       "[{'wiki_title': 'Vive Latino', 'wiki_page_id': 83800},\n",
       " {'wiki_title': 'Gatos fantasma', 'wiki_page_id': 6969933},\n",
       " {'wiki_title': 'Medina (Washington)', 'wiki_page_id': 4384248},\n",
       " {'wiki_title': 'Twisted Whiskers Show', 'wiki_page_id': 4162596},\n",
       " {'wiki_title': 'Garfield: la película', 'wiki_page_id': 503217}]"
      ]
     },
     "execution_count": 11,
     "metadata": {},
     "output_type": "execute_result"
    }
   ],
   "source": [
    "query = 'Bill Gates donde vive'\n",
    "get_wiki_search(query)"
   ]
  },
  {
   "cell_type": "code",
   "execution_count": 12,
   "metadata": {},
   "outputs": [],
   "source": [
    "def get_wiki_article(page_id, lang_code='es'):\n",
    "    url = 'https://%s.wikipedia.org/w/api.php' % lang_code + \\\n",
    "        '?action=parse' + \\\n",
    "        '&pageid=%d' % page_id + \\\n",
    "        '&prop=text' + \\\n",
    "        '&format=json'\n",
    "        #'&section=1' + \\\n",
    "    \n",
    "    r = requests.get(url)\n",
    "    if r.status_code != 200:\n",
    "        print('')\n",
    "        print('Unexpected HTTP Status: %d - %s' % (r.status_code, url))\n",
    "        #raise Exception('Unexpected HTTP Status: %d' % r.status_code)\n",
    "        return None\n",
    "    \n",
    "    json_data = r.json()\n",
    "    if 'parse' not in json_data:\n",
    "        # Not found\n",
    "        return None\n",
    "    article = json_data['parse']['text']['*']\n",
    "    article = re.sub(r'><', \">\\n<\", article) # Adds new line between HTML tags\n",
    "    \n",
    "    soup = BeautifulSoup(article)\n",
    "    article = soup.get_text().strip()\n",
    "    \n",
    "    # Clean wiki rubbish\n",
    "    article = re.sub(r'\\[[^\\]]+\\]+', ' ', article)\n",
    "    article = re.sub(r'[\\s\\u200b]+', ' ', article)\n",
    "    \n",
    "    return article"
   ]
  },
  {
   "cell_type": "code",
   "execution_count": 13,
   "metadata": {},
   "outputs": [
    {
     "data": {
      "text/plain": [
       "'Para el mayista estadounidense, véase William Edmond Gates. Bill Gates Bill Gates en 2015 Director ejecutivo de Microsoft Corporation 4 de abril de 1975-27 de junio de 2008 Predecesor Cofundador Sucesor Steve Ballmer Información personal Nombre de nacimiento William Henry Gates III Nacimiento 28 de octubre de 1955 (65 años) Seattle, Washington, Estados Unidos Residencia Medina, Washington, Estados Unidos Nacionalidad Estadounidense Características físicas Altura 1,77 m Familia Padres William H. Gates, Sr. Mary Maxwell Gates Cónyuge Melinda Ann French (matr. 1994) Hijos Jennifer Katharine (1996)Rory John (1999)Phoebe Adele (2002) Educación Educado en Lakeside School (1968-1973) Harvard College (; 1973-1975) Información profesional Ocupación Copresidente de la Fundación Bill y Melinda Gates Miembro del consejo de Berkshire Hathaway Presidente de Cascade Investment Copresidente de TerraPowerAsesor tecnológico de Microsoft Patrimonio 114 100 millones USD (2020) Años activo desde 1975 Empleador Fundación Bill y Melinda Gates Seudónimo Bill Gate Miembro de Academia Estadounidense de las Artes y las Ciencias Academia Nacional de Ingeniería Carrera deportiva Deporte Bridge Firma Web Sitio web www.thegatesnotes.com William Henry Gates III (Seattle, Washington; 28 de octubre de 1955), mejor conocido como Bill Gates, es un empresario, informático y filántropo estadounidense, conocido por haber creado y fundado junto con Paul Allen, la empresa Microsoft. De igual forma es conocido por haber creado, también con Paul Allen, el sistema operativo para computadoras Windows. Su fortuna se calcula en 96.6 mil millones de dólares (2019) según la revista Forbes , hecho que le coloca como el cuarto hombre más rico del mundo. Antes del estallido de la burbuja de las punto com, su patrimonio neto ascendió a 114 100 millones de dólares, lo que lo convirtió en la décima persona más rica en toda la historia de la humanidad. Es uno de los empresarios más conocidos que surgieron durante los inicios de los ordenadores personales. Ha sido criticado por sus tácticas de negocios, que han sido consideradas anticompetitivas, una opinión que en algunos casos ha sido mantenida por numerosas sentencias judiciales. Está casado con Melinda Gates, con quien comparte la presidencia de la Fundación Bill y Melinda Gates, dedicada a reequilibrar oportunidades en salud y educación a nivel local, aunque también ha participado en otros países. Por ejemplo, en Nigeria con el programa para erradicar la polio, razón por la cual han sido galardonados con el Premio Príncipe de Asturias de Cooperación Internacional 2006. Índice 1 Biografía 2 Filantropía 2.1 Fundación Bill y Melinda Gates 2.2 Donaciones personales 2.3 Eventos deportivos de caridad 3 Vida personal 4 Propiedades 5 Véase también 6 Referencias 7 Enlaces externos Biografía William Henry Gates III nació el 28 de octubre de 1955. Es hijo de William H. Gates, Sr. (William Henry Gates II), un destacado abogado, y de Mary Gates, profesora de la Universidad de Washington y directora del First Interstate Bank. Con ellos y su hermana, dos años mayor, vivió en la ciudad de Seattle, en el estado de Washington. Hasta sexto grado fue alumno regular de un colegio público. Cursó estudios en la escuela privada de élite de Lakeside, en Seattle, esta escuela tenía ya una computadora en el año 1968, lo que le permitió a Gates tomar contacto con la máquina y aficionarse a la informática. También en Lakeside conoció a Paul Allen, con quien más tarde fundaría Microsoft. El 4 de abril de 1975, siendo aún estudiante en la Universidad de Harvard crea la empresa de software Microsoft. En 1976 abandonó la universidad y se trasladó a Albuquerque, sede de MITS, para pactar con esa empresa la cesión del 50 % del lenguaje para computadoras Basic. Al año siguiente, se enteró del éxito de la empresa Apple y de que necesitaban un intérprete de Basic. En 1980, se reunió con representantes de IBM en Seattle. Ellos querían contar con el sistema operativo CP/M. Él les comento de la existencia de una versión adaptada llamada QDOS u 86DOS, comprometiéndose a conseguir una licencia no exclusiva a fin de adaptarla. Con ello, consiguió venderles la idea del sistema operativo MS-DOS , sin contar con esta, comprando la 86DOS a muy bajo precio al joven programador Tim Paterson. IBM necesitaba ese sistema operativo para competir con Apple, razón por la cual la negociación fue flexible. Microsoft quiso los derechos de licencia, mantenimiento, e incluso la facultad de vender el DOS a otras compañías. IBM aceptó, considerando que lo que produciría dividendos sería el hardware y no el software . Unos días después, Microsoft compró los derechos de autor del QDOS a Tim Paterson, que trabajaba para la Seattle Computer Products, por 50 000 dólares, que vendió a IBM como MS-DOS (Microsoft DOS). Lo que llama poderosamente la atención fue que IBM no comprara el MS-DOS sino que decidiera pagar a Microsoft un canon por cada copia que se vendiera junto con un IBM-PC. Consciente de la importancia del entorno gráfico que había mostrado Apple (originalmente la interfaz gráfica y el \"ratón\" fueron desarrollados por Xerox PARC) en su ordenador Lisa, se propuso conseguir también el entorno gráfico y el \"ratón\" para operarlo. Mientras, Steve Jobs, fundador de Apple, iniciaba el desarrollo del Macintosh, Bill Gates visitó Apple. Ofrecía mejorar sus hojas de cálculo y otros programas. Amenazaba con vender su material informático a IBM, con lo que obtuvo una alianza Apple-Microsoft. Microsoft obtuvo legalmente la tecnología del entorno gráfico y del ratón, y sacó al mercado Microsoft Windows, como directo competidor de Macintosh. Desde comienzos de siglo, el sistema operativo Microsoft Windows (en todas sus versiones) se utiliza en la mayor parte de ordenadores personales del planeta. Filantropía En 2009 Gates y Warren Buffett fundaron The Giving Pledge, por la cual ellos y otros multimillonarios se comprometen a donar al menos la mitad de su riqueza a la filantropía. Fundación Bill y Melinda Gates Artículo principal: Fundación Bill y Melinda Gates El 16 de junio de 2006 hizo pública su intención de abandonar sus labores diarias al frente de Microsoft hacia el 2008 para dedicarse por completo a su fundación. La transición de responsabilidades fue progresiva para evitar afectar el desarrollo diario de la empresa, continuando como Presidente Honorario de la misma. El 27 de junio de 2008 abandonó sus labores al frente de Microsoft cediendo el control de la empresa a Steve Ballmer. Bill Gates dedica un 70 % de su tiempo a la Fundación Bill y Melinda Gates y el otro 30 % a la empresa. Donaciones personales En 1999, Gates donó 20 millones de dólares al Massachusetts Institute of Technology (MIT) para la construcción de un laboratorio de computación llamado \"William H. Gates Building\", diseñado por el arquitecto Frank Gehry. Aunque Microsoft había dado anteriormente apoyo financiero a la institución, esta fue la primera donación personal recibida de Gates. Eventos deportivos de caridad El 29 de abril de 2017, Bill Gates se asoció con la leyenda del tenis suizo Roger Federer para participar en el Match for Africa 4, un partido de tenis no competitivo que se disputará en el Key Arena de Seattle con todas las entradas agotadas. El evento se realizó en apoyo a los esfuerzos de caridad de la Fundación Roger Federer en África. Federer y Gates jugaron contra John Isner, el mejor jugador estadounidense durante gran parte de esta década, y Mike McCready, el guitarrista principal de Pearl Jam. Gates y Federer ganaron el partido por 6-4. Al año siguiente, Gates y Federer volvieron a jugar en el Match for Africa 5 el 5 de marzo de 2018 en el SAP Center de San José (California). Sus oponentes fueron Jack Sock, uno de los mejores jugadores estadounidenses y ganador del Grand Slam en dobles, y Savannah Guthrie, co-presentadora del programa Today de la NBC. Gates y Federer registraron su segunda victoria en el partido juntos por 6-3 y el evento recaudó más de $2.5 millones. Vida personal Bill y su esposa Melinda Gates el 3 de junio de 2009. En 1985 Gates fue nombrado uno de los «50 solteros más codiciados» por Good Housekeeping . Está casado con Melinda French desde el 1 de enero de 1994 y tienen tres hijos: Jennifer Katharine (1996), Rory John (1999) y Phoebe Adele (2002). La familia reside en su casa en la ladera de una colina con vistas al lago Washington, en Medina. En marzo de 2014, en una entrevista de la revista Rolling Stone , Gates señaló que, en cuanto a su fe, «los sistemas morales de la religión, creo, son super importantes. Hemos criado a nuestros hijos de una manera religiosa». En la misma entrevista, Gates dijo: «Creo que tiene sentido creer en Dios, pero exactamente qué decisión en tu vida haces de manera diferente a causa de ello, no lo sé». En otra entrevista a principios de 2014, Gates afirmó que si el cielo existiera él estaría «gratamente sorprendido». Según otras fuentes, Gates (que nació en el seno de una iglesia protestante), es ahora fuertemente agnóstico. Desde 2008, año en que dejó de dirigir Microsoft, ha participado en algunos proyectos para poder difundir este estilo de vida. En este sentido, junto a Peter Thiel (cofundador de la empresa PayPal), ha respaldado la creación de huevos artificiales a base de plantas fáciles de cultivar. También aseguró, en una ocasión previa, que «el futuro de la carne es vegano», lo cual va en sintonía con una propuesta que había hecho para crear semillas transgénicas que tuviesen sabor a carne. Desde 2007 Bill Gates ocupaba el segundo lugar en la lista anual de las mayores fortunas personales realizada por la revista Forbes , detrás del empresario mexicano Carlos Slim, pero debido a fluctuaciones en el patrimonio de estos dos magnates, sus fortunas quedaron en 72 700 y 72 100 millones de dólares respectivamente, según el Bloomberg Billionaires Index de mayo de 2013. En 1994, adquirió un manuscrito de Leonardo da Vinci (el Códice Hammer, también llamado Códice Leicester) por 30 millones de dólares. En septiembre del 2019 Netflix lanzó una serie documental titulada \"Bill Gates bajo la lupa\", dirigida por Davis Gunggenheim, que busca entender como funciona el cerebro del creador de Microsoft. Propiedades El empresario Bill Gates cuenta con cinco empresas que forman parte de su propiedad, las cuales se pueden ver en la siguiente lista: Microsoft bgC3 TerraPower Branded Entertainment Network Cascade Investment Véase también Anexo:Milmillonarios según Forbes bgC3 Fundación Bill y Melinda Gates Forbes Microsoft Software propietario Piratas de Silicon Valley Referencias ↑ a b c Microsoft. «Bill Gates: Chairman, Microsoft Corp.» (en inglés). Archivado desde el original el 5 de enero de 2007. Consultado el 7 de octubre de 2001. ↑ «Bill Gates». Forbes. 8 de agosto de 2020. Consultado el 19 de agosto de 2020. ↑ «The Real -Time Billonaries List» . Consultado el 9 de enero de 2021. ↑ Peter L. Bernstein. «The 20 Richest People of All Time.» ↑ Manes, Stephen (1994). Gates: How Microsoft\\'s Mogul Reinvented an Industry and Made Himself The Richest Man in America (en inglés). Touchstone Pictures. p. 459. ISBN 0-671-88074-8 . ↑ Fundación Bill y Melinda Gates. «Acerca de nosotros». Archivado desde el original el 9 de marzo de 2007. ↑ Fundación Príncipe de Asturias. «Fundación Bill y Melinda Gates». Archivado desde el original el 5 de marzo de 2007. ↑ El Mundo (España) (4 de mayo de 2006). «Bill y Melinda Gates, galardonados con el Príncipe de Asturias de Cooperación Internacional 2006» . Consultado el 7 de octubre de 2011. ↑ 20 minutos. «Bill y Melinda Gates ganan el premio Príncipe de Asturias de Cooperación Internacional» . Consultado el 7 de octubre de 2011. ↑ «w3counteR» . Consultado el 7 de octubre de 2011. ↑ «Decenas de multimillonarios de EEUU se adhieren a \\'La promesa de dar\\' | Solidaridad | elmundo.es». www.elmundo.es . Consultado el 4 de marzo de 2019. ↑ El Mundo (España) (16 de junio de 2006). «Bill Gates anuncia que abandonará la gestión diaria de Microsoft en dos años» . Consultado el 7 de octubre de 2011. ↑ El País (15 de junio de 2006). «Bill Gates abandonará la dirección de Microsoft en julio de 2008» . Consultado el 7 de octubre de 2011. ↑ El Semanario (27 de junio de 2008). «Bill Gates deja hoy Microsoft». Archivado desde el original el 25 de noviembre de 2011. Consultado el 7 de octubre de 2011. ↑ «Bill Gates Donates $20 million to MIT | News | The Harvard Crimson». www.thecrimson.com (en inglés) . Consultado el 4 de marzo de 2019. ↑ «Exhibición: Federer y Bill Gates juntaron US$ 2,5 millones para niños de África». www.lanacion.com.ar. 6 de marzo de 2018. Consultado el 4 de marzo de 2019. ↑ Jeff Goodell (13 de marzo de 2014). «Bill Gates: The Rolling Stone Interview». Rolling Stone (en inglés) . Consultado el 19 de agosto de 2014. ↑ «El Mundo según Bill Gates». Univision. 27 de enero de 2014. Consultado el 30 de junio de 2015. ↑ Tom Kershaw (24 de febrero de 2012). «The religión and political views of Bill Gates» (en inglés). The Hollowverse. Consultado el 16 de marzo de 2016. ↑ VeoVerde (17 de diciembre de 2013). «Los huevos artificiales de Bill Gates» . Consultado el 13 de diciembre de 2014. ↑ Josh Tetrick en YouTube.com (22 de mayo de 2012). «Bill Gates & the future of eating animals» (en inglés) . Consultado el 13 de diciembre de 2014. ↑ VeoVerde (27 de marzo de 2013). «El futuro de la comida según Bill Gates: semillas con sabor a carne» . Consultado el 13 de diciembre de 2014. ↑ The Gates Notes en YouTube.com (19 de marzo de 2013). «The science behind plant-based proteins» (en inglés) . Consultado el 13 de diciembre de 2014. ↑ «El millonario, norteamericano Bill Gates, comprador del manuscrito de Leonardo da Vinci». El País. 13 de noviembre de 1994. Consultado el 4 de enero de 2019. ↑ «Serie Bill Gates». Enlaces externos Wikimedia Commons alberga una galería multimedia sobre Bill Gates . Wikiquote alberga frases célebres de o sobre Bill Gates . Avance oficial de la serie documental Bill Gates bajo la lupa (2019) Sitio web oficial de la Fundación Bill y Melinda Gates (en inglés). Entrevista a Bill Gates en elmundo.es 1989 Bill Gates Talk on Microsoft Charla sobre el software , industria computacional, contribución de Microsoft y su visión sobre el futuro de estos (1989) (en inglés). Predecesor: Fundador CEO de Microsoft 4 de abril de 1975 - 27 de junio de 2008 Sucesor: Steve Ballmer Control de autoridades Proyectos Wikimedia Datos: Q5284 Multimedia: Bill Gates Citas célebres: Bill Gates Identificadores WorldCat VIAF: 102370574 ISNI: 0000 0001 0929 6053 BNE: XX926317 BNF: 12057155q (data) BNC: 000289814 GND: 119081199 LCCN: n91008414 NDL: 00513394 NKC: jn20000601714 NLA: 35309122 CiNii: DA1331794X SNAC: w64q88mq SUDOC: 032108222 ULAN: 500356023 BIBSYS: 90621148 UB: a1054959 Open Library: OL34537A Diccionarios y enciclopedias Britannica: url Datos: Q5284 Multimedia: Bill Gates Citas célebres: Bill Gates'"
      ]
     },
     "execution_count": 13,
     "metadata": {},
     "output_type": "execute_result"
    }
   ],
   "source": [
    "article = get_wiki_article(375)\n",
    "article"
   ]
  },
  {
   "cell_type": "markdown",
   "metadata": {},
   "source": [
    "## Analysis functions"
   ]
  },
  {
   "cell_type": "code",
   "execution_count": 14,
   "metadata": {},
   "outputs": [],
   "source": [
    "def get_lm_tokenizer(artifacts_path='../artifacts/', lm_name='bert-base-multilingual-cased', lowercase=False):\n",
    "    save_path = os.path.join(artifacts_path, lm_name)\n",
    "    if not os.path.exists(save_path):\n",
    "        os.makedirs(save_path)\n",
    "        slow_tokenizer = BertTokenizer.from_pretrained(args.lm_name)\n",
    "        slow_tokenizer.save_pretrained(save_path)\n",
    "    \n",
    "    save_path = os.path.join(artifacts_path, lm_name, 'vocab.txt')\n",
    "    tokenizer = BertWordPieceTokenizer(save_path, lowercase=lowercase)\n",
    "    return tokenizer"
   ]
  },
  {
   "cell_type": "code",
   "execution_count": 15,
   "metadata": {},
   "outputs": [],
   "source": [
    "\"\"\"\n",
    "def bleu_score(reference, hypothesis):\n",
    "    if len(reference) == 1:\n",
    "        return int(reference == hypothesis)\n",
    "    elif len(reference) < 4:\n",
    "        weights_len = [(0.5, 0.5), (0.34, 0.33, 0.33)]\n",
    "        score = nltk.translate.bleu_score.sentence_bleu([reference], hypothesis,\n",
    "                                                        weights=weights_len[len(reference)-1])\n",
    "    else:\n",
    "        score = nltk.translate.bleu_score.sentence_bleu([reference], hypothesis)\n",
    "    return score\n",
    "\"\"\"\n",
    "\n",
    "def bleu_score(reference, hypothesis):\n",
    "    matches = [int(x == y) for x, y in zip(reference, hypothesis)]\n",
    "    return sum(matches) / len(reference)"
   ]
  },
  {
   "cell_type": "code",
   "execution_count": 16,
   "metadata": {},
   "outputs": [
    {
     "data": {
      "text/plain": [
       "0.75"
      ]
     },
     "execution_count": 16,
     "metadata": {},
     "output_type": "execute_result"
    }
   ],
   "source": [
    "a = ['esta', 'es', 'prueba','1']\n",
    "b = ['esta', 'es', 'prueba','2']\n",
    "\n",
    "bleu_score(a, b)"
   ]
  },
  {
   "cell_type": "code",
   "execution_count": 17,
   "metadata": {},
   "outputs": [
    {
     "data": {
      "text/plain": [
       "['¡', 'Ho', '##la', 'mundo', '!', '¡', 'Adi', '##ós', 'mundo', '!']"
      ]
     },
     "execution_count": 17,
     "metadata": {},
     "output_type": "execute_result"
    }
   ],
   "source": [
    "text = '¡Hola mundo! ¡Adiós mundo!'\n",
    "\n",
    "tokenizer = get_lm_tokenizer()\n",
    "tokenizer.encode(text, add_special_tokens=False).tokens"
   ]
  },
  {
   "cell_type": "markdown",
   "metadata": {},
   "source": [
    "## MKQA Dataset"
   ]
  },
  {
   "cell_type": "code",
   "execution_count": 18,
   "metadata": {},
   "outputs": [],
   "source": [
    "def get_es_number_unit(raw_unit_name, is_plural=False):\n",
    "    # First list correspond to singular and second list to plural\n",
    "    es_conversion = {\n",
    "        'Antes de la era vulgar': [['a.C.'], ['a.C.']],\n",
    "        'Galones': [['galón'], ['galones']],\n",
    "        'Millas por hora': [['mph', 'milla por hora'], ['mph', 'millas por hora']],\n",
    "        'acre': [['acre'], ['acres']],\n",
    "        'antes del Mediodia': [['AM', 'A.M.'], ['AM', 'A.M.']],\n",
    "        'año terrestre': [['año'], ['años']],\n",
    "        'caballo de potencia metrico': [['caballo de potencia', 'caballo', 'hp', 'cv'], ['caballos de potencia', 'caballos', 'hp', 'cv']],\n",
    "        'centímetro': [['cm', 'centímetro'], ['cm', 'centímetros']],\n",
    "        'día': [['día'], ['días']],\n",
    "        'dólar estadounidense': [['dólar', '$'], ['dólares', '$']],\n",
    "        'episodio': [['episodio'], ['episodios']],\n",
    "        'escala Fahrenheit': [['grado Fahrenheit', 'Fahrenheit', 'ºF'], ['grados Fahrenheit', 'Fahrenheits', 'ºF']],\n",
    "        'estaciones del año': [['temporada'], ['temporadas']],\n",
    "        'grados centigrados': [['grado centigrado', 'grado', 'ºC'], ['grados centigrados', 'grados', 'ºC']],\n",
    "        'gramo': [['gramo', 'gr', 'g'], ['gramos', 'gr', 'g']],\n",
    "        'hora': [['hora', 'h'], ['horas', 'h']],\n",
    "        'kilometraje': [['kilómetro', 'km'], ['kilómetros', 'km']],\n",
    "        'libra avoirdupois': [['libra avoirdupois', 'libra', 'lb'], ['libras avoirdupois', 'libras', 'lb']],\n",
    "        'light año terrestre': [['año luz'], ['años luz']],\n",
    "        'mes sinódico': [['mes sinódico', 'mes'], ['meses sinódicos', 'meses']],\n",
    "        'metros': [['metro', 'm'], ['metros', 'm']],\n",
    "        'metros por segundo': [['metro por segundo', 'mps', 'm/s'], ['metros por segundo', 'mps', 'm/s']],\n",
    "        'mililitro': [['mililitro', 'ml'], ['mililitros', 'ml']],\n",
    "        'milimetro': [['milímetro', 'mm'], ['milímetros', 'mm']],\n",
    "        'milla': [['milla', 'mi'], ['millas', 'mi']],\n",
    "        'millas cuadradas': [['milla cuadrada'], ['millas cuadradas']],\n",
    "        'minuto': [['minuto'], ['minutos']],\n",
    "        'onza': [['onza'], ['onzas']],\n",
    "        'other currency': [[], []], # Nothing to do\n",
    "        'other unit': [[], []], # Nothing to do\n",
    "        'palabra': [['palabra'], ['palabras']],\n",
    "        'pie': [['pie'], ['pies']],\n",
    "        'pies cuadrados': [['pie cuadrado'], ['pies cuadrados']],\n",
    "        'post meridiem (time)': [['PM', 'P.M.'], ['PM', 'P.M.']],\n",
    "        'pulgada': [['pulgada'], ['pulgadas']],\n",
    "        'segundos': [['segundo'], ['segundos']],\n",
    "        'septenario': [['septenario'], ['septenarios']],\n",
    "        'tanto por ciento': [['porcentaje', '%'], ['porcentaje', '%']],\n",
    "    }\n",
    "    \n",
    "    if raw_unit_name not in es_conversion or len(es_conversion[raw_unit_name]) == 0:\n",
    "        return []\n",
    "    else:\n",
    "        return [x for x in es_conversion[raw_unit_name][int(is_plural)]]\n",
    "\n",
    "def parse_nwu_answer_es(raw_answer):\n",
    "    \"\"\"\n",
    "    Parses Spanish answers of type number_with_unit (nwu).\n",
    "    \"\"\"\n",
    "    answers = []\n",
    "\n",
    "    x_interval = re.search(r'^([\\d.]+) ([\\d.]+) (.+)$', raw_answer)\n",
    "    if x_interval:\n",
    "        unit_value_1 = str_to_num(x_interval[1])\n",
    "        unit_value_2 = str_to_num(x_interval[2])\n",
    "        unit_names = get_es_number_unit(x_interval[3], is_plural=True)\n",
    "        if len(unit_names) == 0:\n",
    "            # Skip if not unit name is provided in range of values\n",
    "            pass\n",
    "        else:\n",
    "            for unit_name in unit_names:\n",
    "                answers.append('entre %s y %s %s' % (str(unit_value_1), str(unit_value_2), unit_name))\n",
    "                answers.append('desde %s hasta %s %s' % (str(unit_value_1), str(unit_value_2), unit_name))\n",
    "    else:\n",
    "        x_single = re.search(r'^([\\d.]+) (.+)$', raw_answer)\n",
    "        if x_single is None:\n",
    "            return []\n",
    "        unit_value = str_to_num(x_single[1])\n",
    "        unit_names = get_es_number_unit(x_single[2], is_plural=(unit_value > 0))\n",
    "        if len(unit_names) == 0:\n",
    "            answers.append(str(unit_value))\n",
    "        else:\n",
    "            for unit_name in unit_names:\n",
    "                answers.append('%s %s' % (str(unit_value), unit_name))\n",
    "    \n",
    "    return answers"
   ]
  },
  {
   "cell_type": "code",
   "execution_count": 19,
   "metadata": {},
   "outputs": [],
   "source": [
    "def parse_date_answer_es(raw_answer):\n",
    "    date_parts = re.search('^([\\d.]+)-([\\d.]+)-([\\d.]+)$', raw_answer)\n",
    "    if date_parts is None:\n",
    "        # No ISO date format\n",
    "        return [raw_answer]\n",
    "    \n",
    "    month_conversion = ['enero', 'febrero', 'marzo', 'abril', 'mayo', 'junio', 'julio',\n",
    "                        'agosto', 'septiembre', 'octubre', 'noviembre', 'diciembre']\n",
    "    \n",
    "    year_number = date_parts[1]\n",
    "    month_number = date_parts[2]\n",
    "    month_str = month_conversion[str_to_num(date_parts[2]) - 1]\n",
    "    day_number = date_parts[3]\n",
    "    \n",
    "    return [\n",
    "        '%s-%s-%s' % (year_number, month_number, day_number),\n",
    "        '%s-%s-%s' % (day_number, month_number, year_number),\n",
    "        '%s-%s-%s' % (month_number, day_number, year_number),\n",
    "        '%s/%s/%s' % (month_number, day_number, year_number),\n",
    "        '%s de %s del %s' % (day_number, month_number, year_number),\n",
    "        '%s de %s, %s' % (day_number, month_number, year_number),\n",
    "    ]"
   ]
  },
  {
   "cell_type": "code",
   "execution_count": 20,
   "metadata": {},
   "outputs": [],
   "source": [
    "def parse_raw_answer_es(type, main_answer, aliases):\n",
    "    \"\"\"\n",
    "    Parses MKQA Answers of Spanish language.\n",
    "    \"\"\"\n",
    "    parsed_answers = []\n",
    "    if type == 'number_with_unit':\n",
    "        # Example: 16.0 año terrestre\n",
    "        parsed_answers += parse_nwu_answer_es(main_answer)\n",
    "        for alias in aliases:\n",
    "            parsed_answers += parse_nwu_answer_es(alias)\n",
    "    elif type == 'number':\n",
    "        # Example: 104.0\n",
    "        parsed_answers.append(main_answer)\n",
    "        for alias in aliases:\n",
    "            parsed_answers.append(alias)\n",
    "    elif type == 'date':\n",
    "        # Example: 2001-08-29\n",
    "        parsed_answers += parse_date_answer_es(main_answer)\n",
    "    elif type == 'entity':\n",
    "        # Example: Pokémon Ranger: Sombras de Almia\n",
    "        parsed_answers.append(main_answer.strip())\n",
    "        for alias in aliases:\n",
    "            parsed_answers.append(alias.strip())\n",
    "    elif type == 'short_phrase':\n",
    "        # Example: rosemary almond\n",
    "        parsed_answers.append(main_answer.strip())\n",
    "        for alias in aliases:\n",
    "            parsed_answers.append(alias.strip())\n",
    "    else:\n",
    "        # Ignored types: unanswerable, long_answer, binary\n",
    "        pass\n",
    "    \n",
    "    return parsed_answers"
   ]
  },
  {
   "cell_type": "code",
   "execution_count": 21,
   "metadata": {},
   "outputs": [],
   "source": [
    "def find_answers(context, answers, tokenizer, min_bleu):\n",
    "    context_enc = tokenizer.encode(context, add_special_tokens=False)\n",
    "    context_tokens = context_enc.tokens\n",
    "    context_tokens = [re.sub(r\"^\\#+\", '', t) for t in context_tokens]\n",
    "    context_offsets = context_enc.offsets\n",
    "    found_answers = []\n",
    "    \n",
    "    for answer in answers:\n",
    "        answer_tokens = tokenizer.encode(answer, add_special_tokens=False).tokens\n",
    "        answer_tokens = [re.sub(r\"^\\#+\", '', t) for t in answer_tokens]\n",
    "        window_size = len(answer_tokens)\n",
    "        \n",
    "        i = 0\n",
    "        len_answer = len(answer_tokens)\n",
    "        while i < len(context_tokens) - len_answer:\n",
    "            score = bleu_score(answer_tokens, context_tokens[i:i+window_size])\n",
    "            if score >= min_bleu:\n",
    "                span_start = context_offsets[i][0]\n",
    "                span_end = context_offsets[i+window_size-1][1]\n",
    "                found_answers.append({\n",
    "                    'answer_start': span_start,\n",
    "                    'answer_end': span_end,\n",
    "                    'text': context[span_start:span_end],\n",
    "                })\n",
    "                i += len_answer # Skips answer position\n",
    "            else:\n",
    "                i += 1\n",
    "    \n",
    "    return found_answers"
   ]
  },
  {
   "cell_type": "code",
   "execution_count": 22,
   "metadata": {},
   "outputs": [],
   "source": [
    "def has_entities(context, entities, n=1):\n",
    "    if entities is None or len(entities) == 0:\n",
    "        return True\n",
    "    \n",
    "    counter = 0\n",
    "    for entity in entities:\n",
    "        if context.find(entity['wiki_title']) != -1:\n",
    "            counter += 1\n",
    "    \n",
    "    return counter >= n"
   ]
  },
  {
   "cell_type": "code",
   "execution_count": 23,
   "metadata": {},
   "outputs": [],
   "source": [
    "def find_squad_item(idx, question, answers, answer_types, tokenizer, query_top_results=3, entity_top_results=5,\n",
    "                    min_bleu=0.8, min_entity_score=0.96, lang_code='es', max_length=512, verbose=None):\n",
    "    annotations = get_dbpedia_annotations(question, min_score=min_entity_score) + \\\n",
    "            [get_dbpedia_annotations(a, min_score=min_entity_score) for a in answers]\n",
    "    \n",
    "    question_tokens = tokenizer.encode(question, add_special_tokens=False).tokens\n",
    "    question_tokens = [re.sub(r\"^\\#+\", '', t) for t in question_tokens]\n",
    "    squad_items = []\n",
    "    \n",
    "    # Get top results of question and answers (full text search)\n",
    "    question_page_ids = get_wiki_search(question, top_results=query_top_results, lang_code=lang_code)\n",
    "    answer_page_ids = []\n",
    "    for answer, answer_type in zip(answers, answer_types):\n",
    "        if answer_type == 'entity':\n",
    "            # Only search wiki pages using the answer if it is an entity\n",
    "            answer_page_ids += get_wiki_search(answer, top_results=query_top_results, lang_code=lang_code)\n",
    "    \n",
    "    # Get top results of entities in question and answers\n",
    "    question_entities = get_dbpedia_search(question, min_score=min_entity_score)\n",
    "    answers_entities = []\n",
    "    for answer, answer_type in zip(answers, answer_types):\n",
    "        if answer_type in ['number', 'number_with_unit']:\n",
    "            continue\n",
    "        answers_entities += get_dbpedia_search(answer, min_score=min_entity_score)\n",
    "    found_entities = question_entities + answers_entities\n",
    "\n",
    "    entity_page_ids = {}\n",
    "    for entity in found_entities:\n",
    "        if entity['wiki_page_id'] in entity_page_ids:\n",
    "            if entity_page_ids[entity['wiki_page_id']]['dbpedia_score'] < entity['dbpedia_score']:\n",
    "                entity_page_ids[entity['wiki_page_id']] = entity\n",
    "        else:\n",
    "            entity_page_ids[entity['wiki_page_id']] = entity\n",
    "    \n",
    "    entity_page_ids = sorted(entity_page_ids.items(), key=lambda kv: kv[1]['dbpedia_score'], reverse=True)\n",
    "    entity_page_ids = [x[1] for x in entity_page_ids][:entity_top_results]\n",
    "    \n",
    "    all_page_ids = {x['wiki_page_id']:x for x in question_page_ids}\n",
    "    for answer_page_data in answer_page_ids:\n",
    "        if answer_page_data['wiki_page_id'] not in all_page_ids:\n",
    "            all_page_ids[answer_page_data['wiki_page_id']] = answer_page_data\n",
    "    for entity_page_data in entity_page_ids:\n",
    "        if entity_page_data['wiki_page_id'] not in all_page_ids:\n",
    "            all_page_ids[entity_page_data['wiki_page_id']] = entity_page_data\n",
    "    all_page_ids = list(all_page_ids.values())\n",
    "    \n",
    "    # Get page content of each ID\n",
    "    for i, page_data in enumerate(all_page_ids):\n",
    "        if verbose:\n",
    "            print('- Item: %d / %d | Page: %d / %d | Found: %d' % (verbose['i'], verbose['n_items'], i+1,\n",
    "                    len(all_page_ids), verbose['n_found']), ' '*10, end='\\r')\n",
    "    \n",
    "        page_id = page_data['wiki_page_id']\n",
    "        page_title = page_data['wiki_title']\n",
    "        page_content = get_wiki_article(page_id, lang_code=lang_code)\n",
    "        \n",
    "        if page_content is None:\n",
    "            continue\n",
    "        \n",
    "        # Split content into sentences\n",
    "        content_sentences = nltk.tokenize.sent_tokenize(page_content)\n",
    "        \n",
    "        group_sentences = ''\n",
    "        k = 0\n",
    "        while k < len(content_sentences):\n",
    "            sentence = content_sentences[k]\n",
    "            tmp_group_sentences = (group_sentences + ' ' + sentence).strip()\n",
    "            tmp_group_tokens = tokenizer.encode(tmp_group_sentences, add_special_tokens=False).tokens\n",
    "            tmp_group_tokens = [re.sub(r\"^\\#+\", '', t) for t in tmp_group_tokens]\n",
    "            \n",
    "            if (len(tmp_group_tokens) + len(question_tokens)) >= (max_length - 3):\n",
    "                # Context must have at least N entities of the question and M entities of the answer\n",
    "                if has_entities(group_sentences, question_entities, n=1) and has_entities(group_sentences, answers_entities, n=1):\n",
    "                    # Note that we substract 3 since we add 3 additional tokens when encoding for QA model training\n",
    "                    # Try to find answers in the grouped sentences\n",
    "                    found_answers = find_answers(group_sentences, answers, tokenizer, min_bleu=min_bleu)\n",
    "                    if len(found_answers) > 0:\n",
    "                        squad_item = {\n",
    "                            'title': page_title,\n",
    "                            'paragraphs': [{\n",
    "                                'context': group_sentences,\n",
    "                                'qas': [{\n",
    "                                    'id': idx,\n",
    "                                    'question': question,\n",
    "                                    'answers': [],\n",
    "                                }],\n",
    "                            }],\n",
    "                        }\n",
    "                        for found_answer in found_answers:\n",
    "                            squad_item['paragraphs'][0]['qas'][0]['answers'].append({\n",
    "                                'answer_start': found_answer['answer_start'],\n",
    "                                'text': found_answer['text'],\n",
    "                            })\n",
    "                        squad_items.append(squad_item)\n",
    "                \n",
    "                group_sentences = ''\n",
    "            else:\n",
    "                group_sentences = tmp_group_sentences\n",
    "            k += 1\n",
    "    return squad_items"
   ]
  },
  {
   "cell_type": "code",
   "execution_count": 24,
   "metadata": {},
   "outputs": [],
   "source": [
    "def main(mkqa_dataset, lang_code='es', save_path='../artifacts/synthetic/', max_aliases=5):\n",
    "    squad_dataset = {'data': []}\n",
    "    tokenizer = get_lm_tokenizer()\n",
    "    os.makedirs(save_path, exist_ok=True)\n",
    "    \n",
    "    # Load config of parsing\n",
    "    config_file = os.path.join(save_path, 'config.json')\n",
    "    if os.path.exists(config_file):\n",
    "        with open(config_file, 'r') as fp:\n",
    "            config = json.load(fp)\n",
    "    else:\n",
    "        with open(config_file, 'w') as fp:\n",
    "            config = {'skipped': [], 'found': []}\n",
    "            json.dump(config, fp)\n",
    "    \n",
    "    # Count items\n",
    "    n_items = sum([1 for _ in mkqa_dataset])\n",
    "    \n",
    "    print('Process items...')\n",
    "    for i, item in enumerate(mkqa_dataset):\n",
    "        idx = 'mkqa_' + str(item['example_id'])\n",
    "        query = item['queries'][lang_code]\n",
    "        \n",
    "        filename = '%s.json' % idx\n",
    "        output_file = os.path.join(save_path, filename)\n",
    "        \n",
    "        # Skip if already parsed\n",
    "        if item['example_id'] in config['found'] or item['example_id'] in config['skipped']:\n",
    "            continue\n",
    "        \n",
    "        print('- Item %d of %d' % (i + 1, n_items), ' '*10, end='\\r')\n",
    "        \n",
    "        parsed_answers = []\n",
    "        answer_types = []\n",
    "        for raw_answer_data in item['answers'][lang_code]:\n",
    "            main_answer = raw_answer_data['text']\n",
    "            aliases = raw_answer_data['aliases'][:max_aliases] if 'aliases' in raw_answer_data else []\n",
    "            iter_parsed_answers = parse_raw_answer_es(raw_answer_data['type'], main_answer, aliases)\n",
    "            for iter_parsed_answer in iter_parsed_answers:\n",
    "                if iter_parsed_answer not in parsed_answers:\n",
    "                    parsed_answers.append(iter_parsed_answer)\n",
    "                    answer_types.append(raw_answer_data['type'])\n",
    "        \n",
    "        if len(parsed_answers) == 0:\n",
    "            # No answers for this query\n",
    "            config['skipped'].append(item['example_id'])\n",
    "            with open(config_file, 'w') as fp:\n",
    "                json.dump(config, fp)\n",
    "            continue\n",
    "        \n",
    "        print('- Item: %d / %d | Found: %d' % (i + 1, n_items, len(config['found'])), ' '*10, end='\\r')\n",
    "        \n",
    "        squad_dataset['data'] = find_squad_item(idx, query, parsed_answers, answer_types, tokenizer, lang_code=lang_code,\n",
    "                                                verbose={'i': i+1, 'n_items': n_items, 'n_found': len(config['found'])})\n",
    "        \n",
    "        if len(squad_dataset['data']) == 0:\n",
    "            config['skipped'].append(item['example_id'])\n",
    "            with open(config_file, 'w') as fp:\n",
    "                json.dump(config, fp)\n",
    "            continue\n",
    "        \n",
    "        with open(output_file, 'w') as fp:\n",
    "            json.dump(squad_dataset, fp)\n",
    "        config['found'].append(item['example_id'])\n",
    "        with open(config_file, 'w') as fp:\n",
    "            json.dump(config, fp)"
   ]
  },
  {
   "cell_type": "code",
   "execution_count": 25,
   "metadata": {},
   "outputs": [
    {
     "name": "stdout",
     "output_type": "stream",
     "text": [
      "Process items...\n",
      "- Item: 9668 / 10000 | Found: 3671           \n",
      "Unexpected HTTP Status: 400 - http://es.dbpedia.org/resource/Law_&_Order\n",
      "- Item: 9946 / 10000 | Found: 3740           739             \n",
      "Unexpected HTTP Status: 400 - http://es.dbpedia.org/resource/I_Now_Pronounce_You_Chuck_&_Larry\n",
      "- Item: 10000 / 10000 | Page: 7 / 7 | Found: 3757            \r"
     ]
    }
   ],
   "source": [
    "while True:\n",
    "    try:\n",
    "        main(mkqa_dataset, lang_code='es')\n",
    "        break\n",
    "    except:\n",
    "        continue"
   ]
  },
  {
   "cell_type": "code",
   "execution_count": null,
   "metadata": {},
   "outputs": [],
   "source": []
  },
  {
   "cell_type": "code",
   "execution_count": null,
   "metadata": {},
   "outputs": [],
   "source": []
  },
  {
   "cell_type": "code",
   "execution_count": null,
   "metadata": {},
   "outputs": [],
   "source": []
  }
 ],
 "metadata": {
  "kernelspec": {
   "display_name": "Python 3",
   "language": "python",
   "name": "python3"
  },
  "language_info": {
   "codemirror_mode": {
    "name": "ipython",
    "version": 3
   },
   "file_extension": ".py",
   "mimetype": "text/x-python",
   "name": "python",
   "nbconvert_exporter": "python",
   "pygments_lexer": "ipython3",
   "version": "3.8.5"
  }
 },
 "nbformat": 4,
 "nbformat_minor": 4
}
