{
 "cells": [
  {
   "cell_type": "markdown",
   "metadata": {},
   "source": [
    "# Tydiqa subset\n",
    "\n",
    "This notebook extracts a subset from tydiqa of a specific language. The code is based on the assumption that IDs start with the language name in this dataset."
   ]
  },
  {
   "cell_type": "code",
   "execution_count": null,
   "metadata": {},
   "outputs": [],
   "source": [
    "import json\n",
    "import re"
   ]
  },
  {
   "cell_type": "code",
   "execution_count": null,
   "metadata": {},
   "outputs": [],
   "source": [
    "LANG_NAME = 'russian'\n",
    "\n",
    "INPUT_PATH = '../data/tydiqa/tydiqa-goldp-v1.1-dev.json'\n",
    "OUTPUT_PATH = '../data/tydiqa/tydiqa-goldp-v1.1-dev-%s.json' % LANG_NAME"
   ]
  },
  {
   "cell_type": "code",
   "execution_count": null,
   "metadata": {},
   "outputs": [],
   "source": [
    "with open(INPUT_PATH, 'r', encoding='utf8') as fp:\n",
    "    dataset = json.load(fp)"
   ]
  },
  {
   "cell_type": "code",
   "execution_count": null,
   "metadata": {},
   "outputs": [],
   "source": [
    "squad_items = []\n",
    "for qa_context in dataset['data']:\n",
    "    for qa_paragraph in qa_context['paragraphs']:\n",
    "        for qa_item in qa_paragraph['qas']:\n",
    "            if not re.search(r'^%s' % LANG_NAME, qa_item['id']):\n",
    "                continue\n",
    "            squad_items.append({\n",
    "                'title': qa_context['title'],\n",
    "                'paragraphs': [{\n",
    "                    'context': qa_paragraph['context'],\n",
    "                    'qas': [{\n",
    "                        'id': qa_item['id'],\n",
    "                        'question': qa_item['question'],\n",
    "                        'answers': qa_item['answers'],\n",
    "                    }],\n",
    "                }],\n",
    "            })"
   ]
  },
  {
   "cell_type": "code",
   "execution_count": null,
   "metadata": {},
   "outputs": [],
   "source": [
    "n_items = len(squad_items)\n",
    "print('Found %d items' % n_items)"
   ]
  },
  {
   "cell_type": "code",
   "execution_count": null,
   "metadata": {},
   "outputs": [],
   "source": [
    "with open(OUTPUT_PATH, 'w', encoding='utf8') as fp:\n",
    "    dataset['data'] = squad_items\n",
    "    json.dump(dataset, fp, ensure_ascii=False)"
   ]
  },
  {
   "cell_type": "code",
   "execution_count": null,
   "metadata": {},
   "outputs": [],
   "source": []
  }
 ],
 "metadata": {
  "kernelspec": {
   "display_name": "Python 3",
   "language": "python",
   "name": "python3"
  },
  "language_info": {
   "codemirror_mode": {
    "name": "ipython",
    "version": 3
   },
   "file_extension": ".py",
   "mimetype": "text/x-python",
   "name": "python",
   "nbconvert_exporter": "python",
   "pygments_lexer": "ipython3",
   "version": "3.8.5"
  }
 },
 "nbformat": 4,
 "nbformat_minor": 4
}
