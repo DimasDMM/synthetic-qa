{
 "cells": [
  {
   "cell_type": "markdown",
   "metadata": {},
   "source": [
    "# Human eval of SQuAD-like data"
   ]
  },
  {
   "cell_type": "code",
   "execution_count": 18,
   "metadata": {},
   "outputs": [],
   "source": [
    "import json\n",
    "import numpy as np\n",
    "import random"
   ]
  },
  {
   "cell_type": "code",
   "execution_count": 19,
   "metadata": {},
   "outputs": [],
   "source": [
    "REGION_CODE = 'ru'\n",
    "K_TOP = 1\n",
    "\n",
    "INPUT_FILE = '../data/\\synthetic_google_top_n/%s/top_%d/train-synthetic.json' % (REGION_CODE, K_TOP)\n",
    "OUTPUT_FILE = '../data/\\synthetic_google_top_n/%s/top_%d/human-qa-evaluation.json' % (REGION_CODE, K_TOP)\n",
    "DEFAULT_SEED = 42\n",
    "\n",
    "np.random.seed(DEFAULT_SEED)\n",
    "random.seed(DEFAULT_SEED)"
   ]
  },
  {
   "cell_type": "code",
   "execution_count": 20,
   "metadata": {},
   "outputs": [],
   "source": [
    "with open(INPUT_FILE, 'r', encoding='utf-8') as fp:\n",
    "    dataset = json.load(fp)"
   ]
  },
  {
   "cell_type": "markdown",
   "metadata": {},
   "source": [
    "## Pick random sample\n",
    "\n",
    "Picks some random items from the original dataset. There is a placeholder where a person has to write manually the answer."
   ]
  },
  {
   "cell_type": "code",
   "execution_count": 21,
   "metadata": {},
   "outputs": [],
   "source": [
    "N_SAMPLES = 50"
   ]
  },
  {
   "cell_type": "code",
   "execution_count": 22,
   "metadata": {},
   "outputs": [
    {
     "name": "stdout",
     "output_type": "stream",
     "text": [
      "Dataset size: 2150\n"
     ]
    }
   ],
   "source": [
    "n_items = len(dataset['data'])\n",
    "print('Dataset size: %d' % n_items)"
   ]
  },
  {
   "cell_type": "code",
   "execution_count": 23,
   "metadata": {},
   "outputs": [],
   "source": [
    "random_items = random.sample(range(n_items), N_SAMPLES)"
   ]
  },
  {
   "cell_type": "code",
   "execution_count": 24,
   "metadata": {},
   "outputs": [],
   "source": [
    "subdataset = []\n",
    "for i, item in enumerate(dataset['data']):\n",
    "    if i not in random_items:\n",
    "        continue\n",
    "    item = item['paragraphs'][0]\n",
    "    for qa_item in item['qas']:\n",
    "        subdataset.append({\n",
    "            'context': item['context'],\n",
    "            'question': qa_item['question'],\n",
    "            'computer_answers': list(set([x['text'] for x in qa_item['answers']])),\n",
    "            'valid_exact_context': 0,\n",
    "            'valid_enough_context': 0,\n",
    "        })"
   ]
  },
  {
   "cell_type": "code",
   "execution_count": 25,
   "metadata": {},
   "outputs": [],
   "source": [
    "with open(OUTPUT_FILE, 'w', encoding='utf-8') as fp:\n",
    "    json.dump(subdataset, fp, ensure_ascii=False)"
   ]
  },
  {
   "cell_type": "markdown",
   "metadata": {},
   "source": [
    "## Validate results\n",
    "\n",
    "Once a human has written the answers, run this section: it reloads the sub-dataset and validates the answers."
   ]
  },
  {
   "cell_type": "code",
   "execution_count": 27,
   "metadata": {},
   "outputs": [],
   "source": [
    "with open(OUTPUT_FILE, 'r', encoding='utf-8') as fp:\n",
    "    qadataset = json.load(fp)"
   ]
  },
  {
   "cell_type": "code",
   "execution_count": 28,
   "metadata": {},
   "outputs": [],
   "source": [
    "n_items = len(qadataset)\n",
    "qa_result = {\n",
    "    'valid_exact_context': 0,\n",
    "    'valid_enough_context': 0,\n",
    "}\n",
    "\n",
    "for item in qadataset:\n",
    "    if item['valid_exact_context']:\n",
    "        qa_result['valid_exact_context'] += 1\n",
    "    if item['valid_enough_context']:\n",
    "        qa_result['valid_enough_context'] += 1"
   ]
  },
  {
   "cell_type": "code",
   "execution_count": 29,
   "metadata": {},
   "outputs": [
    {
     "name": "stdout",
     "output_type": "stream",
     "text": [
      "QA size: 50\n",
      "- Exact answers: 36.00%\n",
      "- Enough info: 56.00%\n"
     ]
    }
   ],
   "source": [
    "print('QA size: %d' % n_items)\n",
    "print('- Exact answers: %.2f%%' % (qa_result['valid_exact_context'] / n_items * 100))\n",
    "print('- Enough info: %.2f%%' % (qa_result['valid_enough_context'] / n_items * 100))"
   ]
  },
  {
   "cell_type": "code",
   "execution_count": null,
   "metadata": {},
   "outputs": [],
   "source": []
  },
  {
   "cell_type": "code",
   "execution_count": null,
   "metadata": {},
   "outputs": [],
   "source": []
  },
  {
   "cell_type": "code",
   "execution_count": null,
   "metadata": {},
   "outputs": [],
   "source": []
  }
 ],
 "metadata": {
  "kernelspec": {
   "display_name": "Python 3",
   "language": "python",
   "name": "python3"
  },
  "language_info": {
   "codemirror_mode": {
    "name": "ipython",
    "version": 3
   },
   "file_extension": ".py",
   "mimetype": "text/x-python",
   "name": "python",
   "nbconvert_exporter": "python",
   "pygments_lexer": "ipython3",
   "version": "3.8.5"
  }
 },
 "nbformat": 4,
 "nbformat_minor": 4
}
