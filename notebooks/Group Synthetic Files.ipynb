{
 "cells": [
  {
   "cell_type": "markdown",
   "metadata": {},
   "source": [
    "# Group Synthetic Files\n",
    "\n",
    "Output format:\n",
    "\n",
    "```\n",
    "{\n",
    "    \"version\": \"mkqa_par_es\",\n",
    "    \"data\": [\n",
    "        {\n",
    "            \"title\": <string>,\n",
    "            \"paragraphs\": [\n",
    "                {\n",
    "                    \"context\": <string>,\n",
    "                    \"qas\": [\n",
    "                        {\n",
    "                            \"id\": <string>,\n",
    "                            \"question\": <string>,\n",
    "                            \"answers\": [\n",
    "                                {\n",
    "                                    \"answer_start\": <int>,\n",
    "                                    \"text\": <string>\n",
    "                                }\n",
    "                            ]\n",
    "                        }\n",
    "                    ]\n",
    "                }\n",
    "            ]\n",
    "        },\n",
    "        ...\n",
    "    ]\n",
    "}\n",
    "```"
   ]
  },
  {
   "cell_type": "code",
   "execution_count": 1,
   "metadata": {},
   "outputs": [],
   "source": [
    "import json\n",
    "import os"
   ]
  },
  {
   "cell_type": "code",
   "execution_count": 4,
   "metadata": {},
   "outputs": [],
   "source": [
    "def group_synthetic_files(input_path, output_path, output_file):\n",
    "    train_dataset = {\n",
    "        'version': 'mkqa_par',\n",
    "        'data': []\n",
    "    }\n",
    "\n",
    "    n_items = 0\n",
    "    filelist = [os.path.join(input_path, f) for f in os.listdir(input_path) \\\n",
    "                if os.path.isfile(os.path.join(input_path, f)) and f != 'config.json']\n",
    "    \n",
    "    output_train_file = os.path.join(output_path, output_file)\n",
    "\n",
    "    print('Grouping into: %s' % output_train_file)\n",
    "    for i, filepath in enumerate(filelist):\n",
    "        try:\n",
    "            print('- Item %d / %d...' % (i + 1, len(filelist)), end='\\r')\n",
    "            with open(filepath, 'r', encoding='utf-8') as fp:\n",
    "                file_data = json.load(fp)\n",
    "            for k, item in enumerate(file_data['data']):\n",
    "                n_items += 1\n",
    "                item['paragraphs'][0]['qas'][0]['id'] += '_%d' % k\n",
    "                train_dataset['data'].append(item)\n",
    "        except Exception as e:\n",
    "            print('Fail path: %s' % filepath)\n",
    "            raise e\n",
    "\n",
    "    print()\n",
    "    print('- Found %d items.' % n_items)\n",
    "    \n",
    "    os.makedirs(output_path, exist_ok=True)\n",
    "    with open(output_train_file, 'w', encoding='utf-8') as fp:\n",
    "        json.dump(train_dataset, fp, ensure_ascii=False)"
   ]
  },
  {
   "cell_type": "code",
   "execution_count": 11,
   "metadata": {},
   "outputs": [
    {
     "name": "stdout",
     "output_type": "stream",
     "text": [
      "Grouping into: ../data\\synthetic_wikigoogle_top_n\\ja\\top_1\\train-synthetic.json\n",
      "- Item 1714 / 1714...\n",
      "- Found 1714 items.\n",
      "Grouping into: ../data\\synthetic_wikigoogle_top_n\\ja\\top_2\\train-synthetic.json\n",
      "- Item 1714 / 1714...\n",
      "- Found 2839 items.\n",
      "Grouping into: ../data\\synthetic_wikigoogle_top_n\\ja\\top_3\\train-synthetic.json\n",
      "- Item 1714 / 1714...\n",
      "- Found 3651 items.\n",
      "Grouping into: ../data\\synthetic_wikigoogle_top_n\\ja\\top_5\\train-synthetic.json\n",
      "- Item 1714 / 1714...\n",
      "- Found 4736 items.\n"
     ]
    }
   ],
   "source": [
    "language = 'ja'\n",
    "folder_name = 'synthetic_wikigoogle_top_n'\n",
    "\n",
    "for k_top in [1, 2, 3, 5]:\n",
    "    input_path = os.path.join('../artifacts', folder_name, language, 'top_%d' % k_top)\n",
    "    output_path = os.path.join('../data', folder_name, language, 'top_%d' % k_top)\n",
    "    output_file = 'train-synthetic.json'\n",
    "    group_synthetic_files(input_path, output_path, output_file)"
   ]
  },
  {
   "cell_type": "code",
   "execution_count": null,
   "metadata": {},
   "outputs": [],
   "source": []
  },
  {
   "cell_type": "code",
   "execution_count": null,
   "metadata": {},
   "outputs": [],
   "source": []
  }
 ],
 "metadata": {
  "kernelspec": {
   "display_name": "Python 3",
   "language": "python",
   "name": "python3"
  },
  "language_info": {
   "codemirror_mode": {
    "name": "ipython",
    "version": 3
   },
   "file_extension": ".py",
   "mimetype": "text/x-python",
   "name": "python",
   "nbconvert_exporter": "python",
   "pygments_lexer": "ipython3",
   "version": "3.8.5"
  }
 },
 "nbformat": 4,
 "nbformat_minor": 4
}
