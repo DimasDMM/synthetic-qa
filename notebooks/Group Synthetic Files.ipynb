{
 "cells": [
  {
   "cell_type": "markdown",
   "metadata": {},
   "source": [
    "# Group Synthetic Files\n",
    "\n",
    "Output format:\n",
    "\n",
    "```\n",
    "{\n",
    "    \"version\": \"mkqa_par_es\",\n",
    "    \"data\": [\n",
    "        {\n",
    "            \"title\": <string>,\n",
    "            \"paragraphs\": [\n",
    "                {\n",
    "                    \"context\": <string>,\n",
    "                    \"qas\": [\n",
    "                        {\n",
    "                            \"id\": <string>,\n",
    "                            \"question\": <string>,\n",
    "                            \"answers\": [\n",
    "                                {\n",
    "                                    \"answer_start\": <int>,\n",
    "                                    \"text\": <string>\n",
    "                                }\n",
    "                            ]\n",
    "                        }\n",
    "                    ]\n",
    "                }\n",
    "            ]\n",
    "        },\n",
    "        ...\n",
    "    ]\n",
    "}\n",
    "```"
   ]
  },
  {
   "cell_type": "code",
   "execution_count": 19,
   "metadata": {},
   "outputs": [],
   "source": [
    "import json\n",
    "import os"
   ]
  },
  {
   "cell_type": "code",
   "execution_count": 20,
   "metadata": {},
   "outputs": [],
   "source": [
    "INPUT_FILES = '../artifacts/synthetic/'\n",
    "OUTPUT_TRAIN_FILE = '../data/synthetic/train-synthetic-v2.json'\n",
    "OUTPUT_TEST_FILE = '../data/synthetic/test-synthetic-v2.json'\n",
    "SPLIT_RATIO = 0.8"
   ]
  },
  {
   "cell_type": "code",
   "execution_count": 21,
   "metadata": {},
   "outputs": [],
   "source": [
    "filelist = [os.path.join(INPUT_FILES, f) for f in os.listdir(INPUT_FILES) \\\n",
    "            if os.path.isfile(os.path.join(INPUT_FILES, f)) and f != 'config.json']"
   ]
  },
  {
   "cell_type": "code",
   "execution_count": 22,
   "metadata": {},
   "outputs": [
    {
     "data": {
      "text/plain": [
       "['../artifacts/synthetic/mkqa_-1002689427646740593.json',\n",
       " '../artifacts/synthetic/mkqa_-1005672146492412109.json',\n",
       " '../artifacts/synthetic/mkqa_-1021449407380886303.json',\n",
       " '../artifacts/synthetic/mkqa_-1033978770973439629.json',\n",
       " '../artifacts/synthetic/mkqa_-1040708440497808999.json']"
      ]
     },
     "execution_count": 22,
     "metadata": {},
     "output_type": "execute_result"
    }
   ],
   "source": [
    "filelist[:5]"
   ]
  },
  {
   "cell_type": "code",
   "execution_count": 23,
   "metadata": {},
   "outputs": [
    {
     "name": "stdout",
     "output_type": "stream",
     "text": [
      "Grouping...\n",
      "- Item 1273 / 1273...\n",
      "Done! Found 2774 items.\n"
     ]
    }
   ],
   "source": [
    "output_dataset = {\n",
    "    'version': 'mkqa_par',\n",
    "    'data': []\n",
    "}\n",
    "\n",
    "n_items = 0\n",
    "\n",
    "print('Grouping...')\n",
    "for i, filepath in enumerate(filelist):\n",
    "    print('- Item %d / %d...' % (i + 1, len(filelist)), end='\\r')\n",
    "    with open(filepath, 'r', encoding='utf-8') as fp:\n",
    "        file_data = json.load(fp)\n",
    "    for k, item in enumerate(file_data['data']):\n",
    "        n_items += 1\n",
    "        item['paragraphs'][0]['qas'][0]['id'] += '_%d' % k\n",
    "        output_dataset['data'].append(item)\n",
    "\n",
    "print()\n",
    "print('Done! Found %d items.' % n_items)"
   ]
  },
  {
   "cell_type": "code",
   "execution_count": 24,
   "metadata": {},
   "outputs": [],
   "source": [
    "split_idx = int(n_items * SPLIT_RATIO)"
   ]
  },
  {
   "cell_type": "code",
   "execution_count": 25,
   "metadata": {},
   "outputs": [
    {
     "name": "stdout",
     "output_type": "stream",
     "text": [
      "Train dataset: 2219\n",
      "Test dataset: 555\n"
     ]
    }
   ],
   "source": [
    "print('Train dataset: %d' % (split_idx))\n",
    "print('Test dataset: %d' % (n_items - split_idx))"
   ]
  },
  {
   "cell_type": "code",
   "execution_count": 26,
   "metadata": {},
   "outputs": [],
   "source": [
    "train_dataset = {\n",
    "    'version': 'mkqa_par',\n",
    "    'data': output_dataset['data'][:split_idx]\n",
    "}\n",
    "\n",
    "test_dataset = {\n",
    "    'version': 'mkqa_par',\n",
    "    'data': output_dataset['data'][split_idx:]\n",
    "}"
   ]
  },
  {
   "cell_type": "code",
   "execution_count": 27,
   "metadata": {},
   "outputs": [],
   "source": [
    "with open(OUTPUT_TRAIN_FILE, 'w', encoding='utf-8') as fp:\n",
    "    json.dump(train_dataset, fp)\n",
    "with open(OUTPUT_TEST_FILE, 'w', encoding='utf-8') as fp:\n",
    "    json.dump(test_dataset, fp)"
   ]
  },
  {
   "cell_type": "code",
   "execution_count": null,
   "metadata": {},
   "outputs": [],
   "source": []
  }
 ],
 "metadata": {
  "kernelspec": {
   "display_name": "Python 3",
   "language": "python",
   "name": "python3"
  },
  "language_info": {
   "codemirror_mode": {
    "name": "ipython",
    "version": 3
   },
   "file_extension": ".py",
   "mimetype": "text/x-python",
   "name": "python",
   "nbconvert_exporter": "python",
   "pygments_lexer": "ipython3",
   "version": "3.8.5"
  }
 },
 "nbformat": 4,
 "nbformat_minor": 4
}
