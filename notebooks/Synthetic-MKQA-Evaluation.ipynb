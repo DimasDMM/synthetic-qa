{
 "cells": [
  {
   "cell_type": "markdown",
   "metadata": {},
   "source": [
    "# Evaluation of Synthetic-MKQA dataset"
   ]
  },
  {
   "cell_type": "code",
   "execution_count": 37,
   "metadata": {},
   "outputs": [],
   "source": [
    "import json\n",
    "import numpy as np\n",
    "import random"
   ]
  },
  {
   "cell_type": "code",
   "execution_count": 38,
   "metadata": {},
   "outputs": [],
   "source": [
    "INPUT_FILE = '../data/synthetic/train-synthetic-v2.json'\n",
    "OUTPUT_FILE = '../data/synthetic/dataset-qa-evaluation.json'\n",
    "DEFAULT_SEED = 42\n",
    "\n",
    "np.random.seed(DEFAULT_SEED)\n",
    "random.seed(DEFAULT_SEED)"
   ]
  },
  {
   "cell_type": "code",
   "execution_count": 39,
   "metadata": {},
   "outputs": [],
   "source": [
    "with open(INPUT_FILE, 'r', encoding='utf-8') as fp:\n",
    "    dataset = json.load(fp)"
   ]
  },
  {
   "cell_type": "markdown",
   "metadata": {},
   "source": [
    "## Pick random sample\n",
    "\n",
    "Picks some random items from the original dataset. There is a placeholder where a person has to write manually the answer."
   ]
  },
  {
   "cell_type": "code",
   "execution_count": 40,
   "metadata": {},
   "outputs": [],
   "source": [
    "N_SAMPLES = 100"
   ]
  },
  {
   "cell_type": "code",
   "execution_count": 41,
   "metadata": {},
   "outputs": [
    {
     "name": "stdout",
     "output_type": "stream",
     "text": [
      "Dataset size: 2219\n"
     ]
    }
   ],
   "source": [
    "n_items = len(dataset['data'])\n",
    "print('Dataset size: %d' % n_items)"
   ]
  },
  {
   "cell_type": "code",
   "execution_count": 42,
   "metadata": {},
   "outputs": [],
   "source": [
    "random_items = random.sample(range(n_items), N_SAMPLES)"
   ]
  },
  {
   "cell_type": "code",
   "execution_count": 43,
   "metadata": {},
   "outputs": [],
   "source": [
    "subdataset = []\n",
    "for i, item in enumerate(dataset['data']):\n",
    "    if i not in random_items:\n",
    "        continue\n",
    "    item = item['paragraphs'][0]\n",
    "    for qa_item in item['qas']:\n",
    "        subdataset.append({\n",
    "            'context': item['context'],\n",
    "            'question': qa_item['question'],\n",
    "            'computer_answers': list(set([x['text'] for x in qa_item['answers']])),\n",
    "            'valid_computer_answer': 0,\n",
    "            'valid_google_answer': 0,\n",
    "        })"
   ]
  },
  {
   "cell_type": "code",
   "execution_count": 44,
   "metadata": {},
   "outputs": [],
   "source": [
    "with open(OUTPUT_FILE, 'w', encoding='utf-8') as fp:\n",
    "    json.dump(subdataset, fp, ensure_ascii=False)"
   ]
  },
  {
   "cell_type": "markdown",
   "metadata": {},
   "source": [
    "## Validate results\n",
    "\n",
    "Once a human has written the answers, reload the sub-dataset and validate answers."
   ]
  },
  {
   "cell_type": "code",
   "execution_count": 45,
   "metadata": {},
   "outputs": [],
   "source": [
    "with open(OUTPUT_FILE, 'r', encoding='utf-8') as fp:\n",
    "    qadataset = json.load(fp)"
   ]
  },
  {
   "cell_type": "code",
   "execution_count": 46,
   "metadata": {},
   "outputs": [],
   "source": [
    "n_items = len(qadataset)\n",
    "qa_result = {\n",
    "    'computer_answer': 0,\n",
    "    'google_answer': 0,\n",
    "}\n",
    "\n",
    "for item in qadataset:\n",
    "    if item['valid_computer_answer']:\n",
    "        qa_result['computer_answer'] += 1\n",
    "    if item['valid_google_answer']:\n",
    "        qa_result['google_answer'] += 1"
   ]
  },
  {
   "cell_type": "code",
   "execution_count": 47,
   "metadata": {},
   "outputs": [
    {
     "name": "stdout",
     "output_type": "stream",
     "text": [
      "QA size: 31\n",
      "Valid computed answers: 12.90%\n",
      "Valid Google answers: 67.74%\n"
     ]
    }
   ],
   "source": [
    "print('QA size: %d' % n_items)\n",
    "print('Valid computed answers: %.2f%%' % (qa_result['computer_answer'] / n_items * 100))\n",
    "print('Valid Google answers: %.2f%%' % (qa_result['google_answer'] / n_items * 100))"
   ]
  },
  {
   "cell_type": "code",
   "execution_count": null,
   "metadata": {},
   "outputs": [],
   "source": []
  },
  {
   "cell_type": "markdown",
   "metadata": {},
   "source": [
    "Scores:\n",
    "- 23.91%\n",
    "- 29.79%"
   ]
  },
  {
   "cell_type": "code",
   "execution_count": null,
   "metadata": {},
   "outputs": [],
   "source": []
  },
  {
   "cell_type": "code",
   "execution_count": null,
   "metadata": {},
   "outputs": [],
   "source": []
  }
 ],
 "metadata": {
  "kernelspec": {
   "display_name": "Python 3",
   "language": "python",
   "name": "python3"
  },
  "language_info": {
   "codemirror_mode": {
    "name": "ipython",
    "version": 3
   },
   "file_extension": ".py",
   "mimetype": "text/x-python",
   "name": "python",
   "nbconvert_exporter": "python",
   "pygments_lexer": "ipython3",
   "version": "3.8.5"
  }
 },
 "nbformat": 4,
 "nbformat_minor": 4
}
